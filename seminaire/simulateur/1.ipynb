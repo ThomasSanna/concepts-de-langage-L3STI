{
 "cells": [
  {
   "cell_type": "markdown",
   "metadata": {},
   "source": [
    "Génération de Nombre aléatoire"
   ]
  },
  {
   "cell_type": "code",
   "execution_count": 3,
   "metadata": {},
   "outputs": [
    {
     "name": "stdout",
     "output_type": "stream",
     "text": [
      "Résultats de la mesure: {'0': 45, '1': 55}\n",
      "Nombre aléatoire généré: 0\n"
     ]
    },
    {
     "data": {
      "image/png": "[encoded data removed]",
      "text/plain": [
       "<Figure size 640x480 with 1 Axes>"
      ]
     },
     "execution_count": 3,
     "metadata": {},
     "output_type": "execute_result"
    }
   ],
   "source": [
    "from qiskit import QuantumCircuit, transpile\n",
    "from qiskit_aer import Aer\n",
    "from qiskit.visualization import plot_histogram\n",
    "from qiskit.visualization import circuit_drawer\n",
    "\n",
    "# Créer un circuit quantique avec un qubit\n",
    "qc = QuantumCircuit(1, 1)\n",
    "\n",
    "# Appliquer une porte Hadamard pour mettre le qubit en superposition\n",
    "qc.h(0)\n",
    "\n",
    "# Mesurer le qubit\n",
    "qc.measure(0, 0)\n",
    "\n",
    "# Afficher le circuit\n",
    "circuit_drawer(qc, output='mpl')\n",
    "\n",
    "# Utiliser le simulateur Aer pour exécuter le circuit n=100 fois\n",
    "simulator = Aer.get_backend('qasm_simulator') # Choisir le simulateur Aer\n",
    "compiled_circuit = transpile(qc, simulator) # Compiler le circuit pour le simulateur\n",
    "result = simulator.run(compiled_circuit, shots=100).result() # Exécuter le circuit 100 fois\n",
    "\n",
    "# Obtenir les résultats de la mesure\n",
    "counts = result.get_counts(qc)\n",
    "print(\"Résultats de la mesure:\", counts)\n",
    "\n",
    "# Convertir les résultats en un nombre aléatoire\n",
    "random_number = int(list(counts.keys())[0], 2)\n",
    "print(\"Nombre aléatoire généré:\", random_number)\n",
    "\n",
    "plot_histogram(counts)"
   ]
  },
  {
   "cell_type": "code",
   "execution_count": null,
   "metadata": {},
   "outputs": [],
   "source": []
  }
 ],
 "metadata": {
  "kernelspec": {
   "display_name": "Python 3",
   "language": "python",
   "name": "python3"
  },
  "language_info": {
   "codemirror_mode": {
    "name": "ipython",
    "version": 3
   },
   "file_extension": ".py",
   "mimetype": "text/x-python",
   "name": "python",
   "nbconvert_exporter": "python",
   "pygments_lexer": "ipython3",
   "version": "3.11.3"
  }
 },
 "nbformat": 4,
 "nbformat_minor": 2
}
