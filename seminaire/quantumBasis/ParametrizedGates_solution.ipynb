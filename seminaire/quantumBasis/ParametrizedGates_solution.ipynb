{
 "cells": [
  {
   "cell_type": "markdown",
   "metadata": {
    "qat-category": "1-Circuit generation in Python",
    "qat-summary": "1-Creation of an EPR pair using two qubits"
   },
   "source": [
    "# Hands-on 2: Parametrized gates\n",
    "\n",
    "\n"
   ]
  },
  {
   "cell_type": "markdown",
   "metadata": {},
   "source": [
    "In this jupyter notebook the goal is to learn how to apply parametrized gates and emphazise the link between amplitude and probability."
   ]
  },
  {
   "cell_type": "markdown",
   "metadata": {},
   "source": [
    "## Parametrized gates"
   ]
  },
  {
   "cell_type": "markdown",
   "metadata": {},
   "source": [
    "### 1 qubit rotation\n",
    "\n",
    "The first step will be to create a simple circuit with:\n",
    "+ a single qubit\n",
    "+ a single gate\n",
    "\n",
    "Your goal is to create a superposition of:\n",
    "+ 30% to get the state 0\n",
    "+ 70% to get the state 1"
   ]
  },
  {
   "cell_type": "markdown",
   "metadata": {},
   "source": [
    "\n",
    "<table>\n",
    "    <tr><td>\n",
    "        <img src=\"qrotation.png\"></td>\n",
    "    </tr>\n",
    "</table>"
   ]
  },
  {
   "cell_type": "markdown",
   "metadata": {},
   "source": [
    "You need to know that:\n",
    "+ the initial state is $|\\psi_0> = |0> =\\begin{pmatrix} 1  \\\\  0 \\end{pmatrix}$\n",
    "+ a general state can be represented as $|\\psi> = \\alpha|0> + \\beta|1> =\\begin{pmatrix} \\alpha  \\\\  \\beta \\end{pmatrix}$\n",
    "+ generaly, $p(0) = |\\alpha|^2$ and $p(0) = |\\beta|^2$\n",
    "\n",
    "We will use a single rotation along the y-axis to obtain 30% for |0> and 70% for |1>:\n",
    "+ $R_y(\\theta) = e^{-i\\theta Y/2}= \\cos \\frac{\\theta}{2}I - i \\sin \\frac{\\theta}{2} Y = \n",
    "\\begin{pmatrix}\n",
    "    \\cos \\frac{\\theta}{2} & -\\sin\\frac{\\theta}{2} \\\\\n",
    "    \\sin\\frac{\\theta}{2} & \\cos\\frac{\\theta}{2} \n",
    "\\end{pmatrix}$\n",
    "\n",
    "Complete the following cell by:\n",
    "+ putting the right number of qubits for this example\n",
    "+ the right angle for the rotation"
   ]
  },
  {
   "cell_type": "code",
   "execution_count": 1,
   "metadata": {},
   "outputs": [],
   "source": [
    "#Import AQASM\n",
    "from qat.lang.AQASM import *\n",
    "\n",
    "#Create a program\n",
    "prog = Program()\n",
    "\n",
    "#Allocate qubits\n",
    "qbits = prog.qalloc(1)\n",
    "\n",
    "#Apply the rotation gate\n",
    "prog.apply(RY(1.9823), qbits[0]) "
   ]
  },
  {
   "cell_type": "markdown",
   "metadata": {},
   "source": [
    "Display the circuit by executing the following cell:"
   ]
  },
  {
   "cell_type": "code",
   "execution_count": 2,
   "metadata": {},
   "outputs": [
    {
     "data": {
      "image/png": "[encoded data removed]",
      "text/plain": [
       "<IPython.core.display.Image object>"
      ]
     },
     "execution_count": 2,
     "metadata": {},
     "output_type": "execute_result"
    }
   ],
   "source": [
    "#Create the circuit from the program\n",
    "circuit = prog.to_circ()\n",
    "\n",
    "#Display the circuit\n",
    "%qatdisplay circuit"
   ]
  },
  {
   "cell_type": "markdown",
   "metadata": {},
   "source": [
    "Execute the following to print the full distribution of the circuit and see if you obtain the good result:"
   ]
  },
  {
   "cell_type": "code",
   "execution_count": 3,
   "metadata": {},
   "outputs": [
    {
     "name": "stdout",
     "output_type": "stream",
     "text": [
      "State |0> probability 0.30000603658125197\n",
      "State |1> probability 0.699993963418748\n"
     ]
    }
   ],
   "source": [
    "#Create a Job from the circuit\n",
    "job = circuit.to_job()\n",
    "\n",
    "#Import and create the linear algebra simulator\n",
    "from qat.qpus import LinAlg\n",
    "linalgqpu = LinAlg()\n",
    "\n",
    "#Submit the job to the simulator LinAlg and get the results\n",
    "result = linalgqpu.submit(job)\n",
    "\n",
    "#Print the results\n",
    "for sample in result:\n",
    "    print(\"State %s probability %s\" % (sample.state, sample.probability))"
   ]
  },
  {
   "cell_type": "markdown",
   "metadata": {},
   "source": [
    "Complete the following cell to see what happen if you apply the same angle with a x-axis rotation:\n",
    "+ $R_x(\\theta) = e^{-i\\theta X/2}= \\cos \\frac{\\theta}{2}I - i \\sin \\frac{\\theta}{2} X = \n",
    "\\begin{pmatrix}\n",
    "    \\cos \\frac{\\theta}{2} & -i\\sin\\frac{\\theta}{2} \\\\\n",
    "    -i\\sin\\frac{\\theta}{2} & \\cos\\frac{\\theta}{2} \n",
    "\\end{pmatrix}$"
   ]
  },
  {
   "cell_type": "code",
   "execution_count": 4,
   "metadata": {},
   "outputs": [
    {
     "name": "stdout",
     "output_type": "stream",
     "text": [
      "State |0> probability 0.30000603658125197\n",
      "State |1> probability 0.699993963418748\n"
     ]
    }
   ],
   "source": [
    "#Import AQASM\n",
    "from qat.lang.AQASM import *\n",
    "\n",
    "#Create your program\n",
    "prog = Program()\n",
    "\n",
    "#Allocate the qubit\n",
    "qbits = prog.qalloc(1) \n",
    "\n",
    "#Apply the rotation gate\n",
    "prog.apply(RX(1.9823), qbits[0]) \n",
    "\n",
    "#Create the circuit\n",
    "circuit = prog.to_circ()\n",
    "\n",
    "#Create the job\n",
    "job = circuit.to_job()\n",
    "\n",
    "#Import LinAlg\n",
    "from qat.qpus import LinAlg\n",
    "linalgqpu = LinAlg()\n",
    "\n",
    "#Submit the job to the simulator and collect the results\n",
    "result = linalgqpu.submit(job)\n",
    "\n",
    "#Print the results\n",
    "for sample in result:\n",
    "    print(\"State %s probability %s\" % (sample.state, sample.probability))"
   ]
  },
  {
   "cell_type": "markdown",
   "metadata": {},
   "source": [
    "### 2 qubits rotation"
   ]
  },
  {
   "cell_type": "markdown",
   "metadata": {},
   "source": [
    "Let's continue with:\n",
    "+ two qubits\n",
    "+ two gates\n",
    "\n",
    "the result we want is:\n",
    "+ 24% for |00>\n",
    "+ 56% for |01>\n",
    "+ 6%  for |10>\n",
    "+ 14% for |11>\n",
    "\n",
    "without entanglement and two qubits:\n",
    "+ |$q_0$> = $\\alpha_0 |0> + \\beta_0 |1>$ with $|\\alpha_0|^2 + |\\beta_0|^2 = 1$\n",
    "+ |$q_1$> = $\\alpha_1 |0> + \\beta_1 |1>$ with $|\\alpha_1|^2 + |\\beta_1|^2 = 1$\n",
    "+ $|q_0>|q_1> = \\alpha_0 \\alpha_1 |00> + \\alpha_0 \\beta_1 |01> + \\beta_0 \\alpha_1 |10>  + \\beta_0 \\beta_1 |11>$\n",
    "\n",
    "Complete the two angles in the following cell to get the good result (Hint: it is possible to reuse the previous 1 qubit rotation part):"
   ]
  },
  {
   "cell_type": "code",
   "execution_count": null,
   "metadata": {},
   "outputs": [],
   "source": [
    "#Import AQASM\n",
    "from qat.lang.AQASM import *\n",
    "\n",
    "#Create a program\n",
    "prog = Program()\n",
    "\n",
    "#Allocate qubits\n",
    "qbits = prog.qalloc(2) \n",
    "\n",
    "#Apply the first rotation gate\n",
    "prog.apply(RY(0.927295), qbits[0]) \n",
    "#Apply the second rotation gate\n",
    "prog.apply(RY(1.9823), qbits[1]) \n",
    "\n",
    "#Create the circuit\n",
    "circuit = prog.to_circ()\n",
    "\n",
    "#Create the job\n",
    "job = circuit.to_job()\n",
    "\n",
    "#Import the simulator\n",
    "from qat.qpus import LinAlg\n",
    "\n",
    "#Create the simulator \n",
    "linalgqpu = LinAlg()\n",
    "\n",
    "#Submit the job and gather the results\n",
    "result = linalgqpu.submit(job)\n",
    "\n",
    "#Print the resutls\n",
    "for sample in result:\n",
    "    print(\"State %s probability %s\" % (sample.state, sample.probability))"
   ]
  },
  {
   "cell_type": "markdown",
   "metadata": {},
   "source": [
    "This hands-on have emphasize the link between the amplitude and the probability, on top of practicing parametrized gates."
   ]
  }
 ],
 "metadata": {
  "kernelspec": {
   "display_name": "Python 3 (ipykernel)",
   "language": "python",
   "name": "python3"
  },
  "language_info": {
   "codemirror_mode": {
    "name": "ipython",
    "version": 3
   },
   "file_extension": ".py",
   "mimetype": "text/x-python",
   "name": "python",
   "nbconvert_exporter": "python",
   "pygments_lexer": "ipython3",
   "version": "3.9.2"
  }
 },
 "nbformat": 4,
 "nbformat_minor": 4
}
